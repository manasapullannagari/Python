{
 "cells": [
  {
   "cell_type": "markdown",
   "metadata": {},
   "source": [
    "### Drawing a shape on screen"
   ]
  },
  {
   "cell_type": "code",
   "execution_count": 1,
   "metadata": {},
   "outputs": [
    {
     "name": "stdout",
     "output_type": "stream",
     "text": [
      "   /|\n",
      "  / |\n",
      " /  |\n",
      "/ __|\n"
     ]
    }
   ],
   "source": [
    "#draw little triangle\n",
    "print(\"   /|\")\n",
    "print(\"  / |\")\n",
    "print(\" /  |\")\n",
    "print(\"/ __|\")"
   ]
  },
  {
   "cell_type": "markdown",
   "metadata": {},
   "source": [
    "#####  The order of the instructions matters alot in python as it execute line by line"
   ]
  },
  {
   "cell_type": "code",
   "execution_count": 5,
   "metadata": {},
   "outputs": [
    {
     "name": "stdout",
     "output_type": "stream",
     "text": [
      "    /\\\n",
      "   /  \\\n",
      "  /    \\\n",
      " /      \\\n",
      "/ _______\\\n"
     ]
    }
   ],
   "source": [
    "print(\"    /\\\\\")\n",
    "print(\"   /  \\\\\")\n",
    "print(\"  /    \\\\\")\n",
    "print(\" /      \\\\\")\n",
    "print(\"/ _______\\\\\")"
   ]
  },
  {
   "cell_type": "markdown",
   "metadata": {},
   "source": [
    "## 1.Variables & Data Types"
   ]
  },
  {
   "cell_type": "markdown",
   "metadata": {},
   "source": [
    "##### variables are container where we can store certain data values  which makes it easy to manage data\n",
    "##### we can store string,int,float,boolean "
   ]
  },
  {
   "cell_type": "code",
   "execution_count": 9,
   "metadata": {},
   "outputs": [
    {
     "name": "stdout",
     "output_type": "stream",
     "text": [
      "There once was a man named Jhon,\n",
      "he was 70 years old.\n",
      "He really liked the name Jhon\n",
      "but didn't like being 70\n"
     ]
    }
   ],
   "source": [
    "character_name = \"Jhon\"\n",
    "character_age = 50\n",
    "character_salary = 2003.45\n",
    "is_male = True\n",
    "\n",
    "\n",
    "print(\"There once was a man named\" + \" \" + character_name +  \",\")\n",
    "print(\"he was 70 years old.\")\n",
    "print(\"He really liked the name\" + \" \" + character_name + \",\")\n",
    "print(\"but didn't like being 70\")\n"
   ]
  },
  {
   "cell_type": "markdown",
   "metadata": {},
   "source": [
    "#### 2. Data Types\n",
    "#### 2.1 Strings"
   ]
  },
  {
   "cell_type": "code",
   "execution_count": 18,
   "metadata": {},
   "outputs": [
    {
     "name": "stdout",
     "output_type": "stream",
     "text": [
      "Giraffe \n",
      " Academy is cool\n"
     ]
    }
   ],
   "source": [
    "phrase = \"Giraffe \\n Academy\"\n",
    "print(phrase + \" is cool\")\n",
    "#\\ escape character  whatever character comes after that will be print\n"
   ]
  },
  {
   "cell_type": "markdown",
   "metadata": {},
   "source": [
    "#### function is a little block of code that we can run to perform specific operations \n",
    "#### 1.we can use functions to modify the stringsprint(phrase.lower())"
   ]
  },
  {
   "cell_type": "code",
   "execution_count": 31,
   "metadata": {},
   "outputs": [
    {
     "name": "stdout",
     "output_type": "stream",
     "text": [
      "GIRAFFE \n",
      " ACADEMY\n",
      "True\n",
      "17\n",
      "G\n",
      "False\n"
     ]
    }
   ],
   "source": [
    "\n",
    "print(phrase.upper())\n",
    "print(phrase.upper().isupper())\n",
    "print(len(phrase))\n",
    "print( phrase[0]) #string gets indexes starting 0\n",
    "print(phrase.isupper())\n"
   ]
  },
  {
   "cell_type": "markdown",
   "metadata": {},
   "source": [
    "#### 2.str.capitalize(): Converts the first character of the string to uppercase and the rest to lowercase."
   ]
  },
  {
   "cell_type": "code",
   "execution_count": 35,
   "metadata": {},
   "outputs": [
    {
     "name": "stdout",
     "output_type": "stream",
     "text": [
      "Giraffe \n",
      " academy\n"
     ]
    }
   ],
   "source": [
    "print(phrase.capitalize())"
   ]
  },
  {
   "cell_type": "markdown",
   "metadata": {},
   "source": [
    "#### 3.index function tells where the character in string is stored\n",
    "###  3.find function also gives the same output"
   ]
  },
  {
   "cell_type": "code",
   "execution_count": 30,
   "metadata": {},
   "outputs": [
    {
     "name": "stdout",
     "output_type": "stream",
     "text": [
      "3\n",
      "10\n",
      "3\n",
      "10\n"
     ]
    }
   ],
   "source": [
    "\n",
    "print(phrase.index(\"a\"))\n",
    "print(phrase.index(\"Acad\"))\n",
    "\n",
    "print(phrase.find(\"a\"))\n",
    "print(phrase.find(\"Acad\"))\n"
   ]
  },
  {
   "cell_type": "markdown",
   "metadata": {},
   "source": [
    "#### 4.replace is used to replace part of the string"
   ]
  },
  {
   "cell_type": "code",
   "execution_count": null,
   "metadata": {},
   "outputs": [],
   "source": [
    "\n",
    "print(phrase.replace(\"Giraffe\", \"Elephant\"))"
   ]
  },
  {
   "cell_type": "markdown",
   "metadata": {},
   "source": [
    "#### 5.Splits a string into a list of substrings using a specified delimiter."
   ]
  },
  {
   "cell_type": "code",
   "execution_count": 34,
   "metadata": {},
   "outputs": [
    {
     "name": "stdout",
     "output_type": "stream",
     "text": [
      "['Giraffe', '\\n', 'Academy']\n",
      "['Gir', 'ffe \\n Ac', 'demy']\n"
     ]
    }
   ],
   "source": [
    "print(phrase.split(\" \"))\n",
    "print(phrase.split(\"a\"))"
   ]
  },
  {
   "cell_type": "markdown",
   "metadata": {},
   "source": [
    "#### 6.str.strip(), str.lstrip(), and str.rstrip(): Removes leading and trailing whitespace (or specified characters)."
   ]
  },
  {
   "cell_type": "code",
   "execution_count": null,
   "metadata": {},
   "outputs": [],
   "source": [
    "text = \"   spaces   \"\n",
    "stripped_text = text.strip()\n",
    "print(stripped_text)"
   ]
  },
  {
   "cell_type": "markdown",
   "metadata": {},
   "source": [
    "#### 2.2 Numbers"
   ]
  },
  {
   "cell_type": "code",
   "execution_count": 36,
   "metadata": {},
   "outputs": [
    {
     "name": "stdout",
     "output_type": "stream",
     "text": [
      "27\n",
      "17\n"
     ]
    }
   ],
   "source": [
    "print(3*(4+5))\n",
    "print(3*4+5)"
   ]
  },
  {
   "cell_type": "code",
   "execution_count": 37,
   "metadata": {},
   "outputs": [
    {
     "name": "stdout",
     "output_type": "stream",
     "text": [
      "1\n"
     ]
    }
   ],
   "source": [
    "print(10%3)\n",
    "# gives remider of 10/3"
   ]
  },
  {
   "cell_type": "code",
   "execution_count": 38,
   "metadata": {},
   "outputs": [
    {
     "name": "stdout",
     "output_type": "stream",
     "text": [
      "5\n"
     ]
    }
   ],
   "source": [
    "my_num = 5\n",
    "print(my_num)"
   ]
  },
  {
   "cell_type": "code",
   "execution_count": 44,
   "metadata": {},
   "outputs": [
    {
     "name": "stdout",
     "output_type": "stream",
     "text": [
      "5 my fav number\n"
     ]
    }
   ],
   "source": [
    "#convert number into string\n",
    "print(str(my_num) + \" my fav number\")\n",
    "#print(my_num + \" my fav number\")##throws error as we cannot use number with string"
   ]
  },
  {
   "cell_type": "markdown",
   "metadata": {},
   "source": [
    "#### Number functions\n"
   ]
  },
  {
   "cell_type": "code",
   "execution_count": 47,
   "metadata": {},
   "outputs": [
    {
     "name": "stdout",
     "output_type": "stream",
     "text": [
      "9\n",
      "625\n"
     ]
    }
   ],
   "source": [
    "print(pow(3,2))\n",
    "print(pow(my_num,4))"
   ]
  },
  {
   "cell_type": "code",
   "execution_count": 51,
   "metadata": {},
   "outputs": [
    {
     "name": "stdout",
     "output_type": "stream",
     "text": [
      "6\n",
      "3\n",
      "3\n",
      "4\n",
      "3\n",
      "4\n"
     ]
    }
   ],
   "source": [
    "print(max(4,6))\n",
    "print(min(3,9))\n",
    "print(round(3.25))\n",
    "print(round(3.7))\n",
    "print(round(3.4))\n",
    "print(round(3.5))"
   ]
  },
  {
   "cell_type": "code",
   "execution_count": 52,
   "metadata": {},
   "outputs": [
    {
     "name": "stdout",
     "output_type": "stream",
     "text": [
      "3\n",
      "4\n",
      "6.0\n"
     ]
    }
   ],
   "source": [
    "from math import *\n",
    "\n",
    "print(floor(3.7))\n",
    "print(ceil(3.7))\n",
    "print(sqrt(36))"
   ]
  },
  {
   "cell_type": "markdown",
   "metadata": {},
   "source": [
    "### 3. Getting Inputs from users"
   ]
  },
  {
   "cell_type": "code",
   "execution_count": 59,
   "metadata": {},
   "outputs": [
    {
     "name": "stdout",
     "output_type": "stream",
     "text": [
      "Hello manasa! you are 29\n"
     ]
    }
   ],
   "source": [
    "name = input(\"Enter your name: \")\n",
    "age = input(\"Enter your age: \")\n",
    "print(\"Hello \" + name +\"! you are \"  + age )"
   ]
  },
  {
   "cell_type": "markdown",
   "metadata": {},
   "source": [
    "### 4. Building basic Calculator"
   ]
  },
  {
   "cell_type": "code",
   "execution_count": 61,
   "metadata": {},
   "outputs": [
    {
     "name": "stdout",
     "output_type": "stream",
     "text": [
      "55\n"
     ]
    }
   ],
   "source": [
    "num1 = input(\" Enter a number: \")\n",
    "num2 = input(\" Enter another number: \")\n",
    "result = num1 + num2\n",
    "print(result)\n",
    "# when we get input from user its in string by default so the answer is concat not sum"
   ]
  },
  {
   "cell_type": "code",
   "execution_count": 63,
   "metadata": {},
   "outputs": [
    {
     "name": "stdout",
     "output_type": "stream",
     "text": [
      "17\n"
     ]
    }
   ],
   "source": [
    "num1 = input(\" Enter a number: \")\n",
    "num2 = input(\" Enter another number: \")\n",
    "result = int(num1) + int(num2)\n",
    "print(result)\n",
    "#int will use whole numbers so it does not take decimal numbers"
   ]
  },
  {
   "cell_type": "code",
   "execution_count": 64,
   "metadata": {},
   "outputs": [
    {
     "name": "stdout",
     "output_type": "stream",
     "text": [
      "8.0\n"
     ]
    }
   ],
   "source": [
    "num1 = input(\" Enter a number: \")\n",
    "num2 = input(\" Enter another number: \")\n",
    "result = float(num1) + float(num2)\n",
    "print(result)"
   ]
  },
  {
   "cell_type": "markdown",
   "metadata": {},
   "source": [
    "### 5. Mad Lib Game"
   ]
  },
  {
   "cell_type": "code",
   "execution_count": 68,
   "metadata": {},
   "outputs": [
    {
     "name": "stdout",
     "output_type": "stream",
     "text": [
      "Roses are manasa\n",
      "mahesh are blue\n",
      "I love our baby\n"
     ]
    }
   ],
   "source": [
    "# game where you can enter words,num,variables etc enter then in the story\n",
    "colour = input(\"Enter a color\")\n",
    "plural_noun = input(\" Enter a Plural Noun: \")\n",
    "celebrity = input(\" Enter a celebrity: \")\n",
    "print(\"Roses are \" + colour )\n",
    "print( plural_noun + \" are blue\")\n",
    "print(\"I love \" +  celebrity )"
   ]
  },
  {
   "cell_type": "markdown",
   "metadata": {},
   "source": [
    "### 6. Lists"
   ]
  },
  {
   "cell_type": "code",
   "execution_count": 70,
   "metadata": {},
   "outputs": [],
   "source": [
    "# when you are dealing with large amount of data we need to organize and keep track of them \n",
    "# list we use bunch of values in variable and use them\n",
    "# you can put any values in the list"
   ]
  },
  {
   "cell_type": "code",
   "execution_count": 69,
   "metadata": {},
   "outputs": [],
   "source": [
    "friends = [\"Kevin\",\"karen\",\"Jim\"]"
   ]
  },
  {
   "cell_type": "code",
   "execution_count": 73,
   "metadata": {},
   "outputs": [
    {
     "name": "stdout",
     "output_type": "stream",
     "text": [
      "Kevin\n",
      "Jim\n",
      "karen\n"
     ]
    }
   ],
   "source": [
    "## accessing values in list\n",
    "print(friends[0]) # index starts from 0\n",
    "print(friends[-1])\n",
    "print(friends[-2])"
   ]
  },
  {
   "cell_type": "code",
   "execution_count": 77,
   "metadata": {},
   "outputs": [
    {
     "name": "stdout",
     "output_type": "stream",
     "text": [
      "['Jim']\n",
      "['Kevin', 'karen']\n"
     ]
    }
   ],
   "source": [
    "# list slicing\n",
    "print(friends[2:])\n",
    "print(friends[0:2])"
   ]
  },
  {
   "cell_type": "code",
   "execution_count": 82,
   "metadata": {},
   "outputs": [
    {
     "name": "stdout",
     "output_type": "stream",
     "text": [
      "0\n"
     ]
    }
   ],
   "source": [
    "print(friends.index(\"Kevin\"))\n"
   ]
  },
  {
   "cell_type": "code",
   "execution_count": 93,
   "metadata": {},
   "outputs": [],
   "source": [
    "lucky_numbers  = [4,8,15,16,23,42]\n",
    "friends = [\"Kevin\", \"Karen\", \"Jim\" ,\"Oscar\",\"Toby\"]"
   ]
  },
  {
   "cell_type": "code",
   "execution_count": 87,
   "metadata": {},
   "outputs": [
    {
     "name": "stdout",
     "output_type": "stream",
     "text": [
      "['Kevin', 'Karen', 'Jim', 'Oscar', 'Toby', 4, 8, 15, 16, 23, 42, 4, 8, 15, 16, 23, 42, 4, 8, 15, 16, 23, 42]\n"
     ]
    }
   ],
   "source": [
    "# extend will Extends the list by appending elements from another iterable.\n",
    "friends.extend(lucky_numbers)\n",
    "print(friends)"
   ]
  },
  {
   "cell_type": "code",
   "execution_count": 88,
   "metadata": {},
   "outputs": [
    {
     "name": "stdout",
     "output_type": "stream",
     "text": [
      "['Kevin', 'Karen', 'Jim', 'Oscar', 'Toby', 4, 8, 15, 16, 23, 42, 4, 8, 15, 16, 23, 42, 4, 8, 15, 16, 23, 42, 'MANASA']\n"
     ]
    }
   ],
   "source": [
    "# append another element to the list\n",
    "friends.append(\"MANASA\")\n",
    "print(friends)"
   ]
  },
  {
   "cell_type": "code",
   "execution_count": 89,
   "metadata": {},
   "outputs": [
    {
     "name": "stdout",
     "output_type": "stream",
     "text": [
      "['Kevin', 'kelly', 'Karen', 'Jim', 'Oscar', 'Toby', 4, 8, 15, 16, 23, 42, 4, 8, 15, 16, 23, 42, 4, 8, 15, 16, 23, 42, 'MANASA']\n"
     ]
    }
   ],
   "source": [
    "# insert will help to add element to list in prefered index\n",
    "friends.insert(1,\"kelly\")\n",
    "print(friends)"
   ]
  },
  {
   "cell_type": "code",
   "execution_count": 90,
   "metadata": {},
   "outputs": [],
   "source": [
    "#friends.clear()## clear all elements from list\n"
   ]
  },
  {
   "cell_type": "code",
   "execution_count": 94,
   "metadata": {},
   "outputs": [
    {
     "name": "stdout",
     "output_type": "stream",
     "text": [
      "['Kevin', 'Karen', 'Jim', 'Oscar']\n"
     ]
    }
   ],
   "source": [
    "friends.pop()## delete last element in list \n",
    "print(friends)"
   ]
  },
  {
   "cell_type": "code",
   "execution_count": 98,
   "metadata": {},
   "outputs": [
    {
     "name": "stdout",
     "output_type": "stream",
     "text": [
      "['Jim', 'Karen', 'Kevin', 'Oscar']\n"
     ]
    }
   ],
   "source": [
    "friends.sort()\n",
    "print(friends)"
   ]
  },
  {
   "cell_type": "code",
   "execution_count": 99,
   "metadata": {},
   "outputs": [
    {
     "name": "stdout",
     "output_type": "stream",
     "text": [
      "[4, 8, 15, 16, 23, 42]\n"
     ]
    }
   ],
   "source": [
    "lucky_numbers.reverse()\n",
    "print(lucky_numbers)"
   ]
  },
  {
   "cell_type": "code",
   "execution_count": 103,
   "metadata": {},
   "outputs": [
    {
     "name": "stdout",
     "output_type": "stream",
     "text": [
      "['Jim', 'Karen', 'Kevin', 'Oscar']\n"
     ]
    }
   ],
   "source": [
    "friends2 = friends.copy()\n",
    "print(friends2)"
   ]
  },
  {
   "cell_type": "code",
   "execution_count": 104,
   "metadata": {},
   "outputs": [],
   "source": [
    "friends3 = friends\n",
    "print(friends3)"
   ]
  },
  {
   "cell_type": "markdown",
   "metadata": {},
   "source": [
    "### 7. Tuple "
   ]
  },
  {
   "cell_type": "code",
   "execution_count": null,
   "metadata": {},
   "outputs": [],
   "source": []
  }
 ],
 "metadata": {
  "kernelspec": {
   "display_name": "Python 3",
   "language": "python",
   "name": "python3"
  },
  "language_info": {
   "codemirror_mode": {
    "name": "ipython",
    "version": 3
   },
   "file_extension": ".py",
   "mimetype": "text/x-python",
   "name": "python",
   "nbconvert_exporter": "python",
   "pygments_lexer": "ipython3",
   "version": "3.9.13"
  },
  "orig_nbformat": 4
 },
 "nbformat": 4,
 "nbformat_minor": 2
}
